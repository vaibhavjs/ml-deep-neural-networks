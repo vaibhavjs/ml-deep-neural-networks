{
 "cells": [
  {
   "cell_type": "markdown",
   "id": "6afc0fd7",
   "metadata": {},
   "source": [
    "# Deep Neural Networks for predicting university admissions."
   ]
  },
  {
   "cell_type": "markdown",
   "id": "d41ce627",
   "metadata": {},
   "source": [
    "\n",
    "## 1. Introduction\n",
    "In the realm of higher education, predicting student admissions is a pivotal task for both institutions and aspiring students. It aids universities in forecasting their incoming student demographics and helps students gauge their chances of securing a place in their desired educational establishments. This assignment revolves around leveraging a dataset of students' profiles to create a predictive model for admissions into University of California, Los Angeles(UCLA) - Masters programs. We aim to use deep learning, a subfield of machine learning, to make these predictions.\n",
    "\n",
    "Our dataset comprises several features, including the Graduate Record Examination (GRE) score, the score of the Test of English as a Foreign Language (TOEFL), university ratings, and more. While the primary continuous outcome in the dataset represents the 'chance of admit', we'll transform this into a binary classification problem. We'll classify students into two categories based on their probability of admission: those with a high chance (greater than 80%) and those with a lower chance.\n",
    "\n",
    "To achieve this, we'll employ the power of neural networks using the TensorFlow framework. Our journey will begin with an exploration of the dataset, followed by preprocessing steps that include normalization and one-hot encoding. As a benchmark, we will establish a 'common sense' baseline, providing context for our subsequent predictive model's accuracy. The main highlight is our deep neural network model, which will be optimized for hyperparameters and trained to make accurate predictions. By the end of this notebook, we'll evaluate our model's performance on a test dataset and use visual aids to interpret and understand its predictions."
   ]
  },
  {
   "cell_type": "markdown",
   "id": "bdfd2c64",
   "metadata": {},
   "source": [
    "\n",
    "## 2. Methodology\n",
    "In this project, we adopt a systematic approach to predict university admissions. Starting with the raw data, our methodology encompasses data preprocessing, model selection, hyperparameter tuning, and evaluation. Initially, we engage in data cleaning and transformation, ensuring the information is suitable for a neural network. This involves turning continuous outcomes into binary classes and one-hot encoding categorical features. Once our data is prepared, we segment it into training and test datasets to ensure a robust evaluation. We first establish a baseline model, providing a foundational performance metric to which we can compare our neural network. In the model-building phase, we harness the power of deep learning, constructing a neural network using TensorFlow. Recognizing the significance of model hyperparameters, we conduct a series of experiments, iterating over learning rates to identify the optimal configuration. After training our model, we evaluate its performance on unseen data, focusing not just on accuracy but also on understanding the types of errors it might make. Through every stage of this methodology, our goal remains consistent: to develop a highly accurate predictive model that can be reliably used in real-world university admissions scenarios."
   ]
  },
  {
   "cell_type": "markdown",
   "id": "86f4745d",
   "metadata": {},
   "source": [
    "\n",
    "## 3. Model Implementation\n",
    "Now we are starting to work on the actual model implementation work for this task. Let's begin with loading and preprocessing the data."
   ]
  },
  {
   "cell_type": "markdown",
   "id": "752d94ce",
   "metadata": {},
   "source": [
    "## 3.1 Preprocessing"
   ]
  },
  {
   "cell_type": "code",
   "execution_count": 1,
   "id": "c3956d55",
   "metadata": {},
   "outputs": [],
   "source": [
    "# Importing essential libraries\n",
    "import numpy as np\n",
    "import pandas as pd\n",
    "import random\n",
    "import tensorflow as tf\n",
    "import matplotlib.pyplot as plt\n",
    "import seaborn as sns\n",
    "from sklearn.model_selection import train_test_split\n",
    "from sklearn.preprocessing import MinMaxScaler\n",
    "from sklearn.metrics import classification_report, confusion_matrix\n",
    "from tensorflow.keras.models import Sequential\n",
    "from tensorflow.keras.layers import Dense, Dropout"
   ]
  },
  {
   "cell_type": "code",
   "execution_count": 2,
   "id": "6fc364f0",
   "metadata": {},
   "outputs": [
    {
     "name": "stdout",
     "output_type": "stream",
     "text": [
      "   Serial No.  GRE Score  TOEFL Score  University Rating  SOP  LOR   CGPA  \\\n",
      "0           1        337          118                  4  4.5   4.5  9.65   \n",
      "1           2        324          107                  4  4.0   4.5  8.87   \n",
      "2           3        316          104                  3  3.0   3.5  8.00   \n",
      "3           4        322          110                  3  3.5   2.5  8.67   \n",
      "4           5        314          103                  2  2.0   3.0  8.21   \n",
      "\n",
      "   Research  Chance of Admit   \n",
      "0         1              0.92  \n",
      "1         1              0.76  \n",
      "2         1              0.72  \n",
      "3         1              0.80  \n",
      "4         0              0.65  \n"
     ]
    }
   ],
   "source": [
    "# Loading the dataset\n",
    "data = pd.read_csv('university_admissions_dataset.csv')\n",
    "\n",
    "# Displaying the first few rows of the dataset for a quick overview\n",
    "print(data.head())"
   ]
  },
  {
   "cell_type": "markdown",
   "id": "b7354075",
   "metadata": {},
   "source": [
    "### 3.1.1 Data Transformation\n",
    "To approach this as a binary classification problem, we transform the 'Chance of Admit' into a binary class. A threshold of 0.8 is applied, classifying students with chances above this value as having a high likelihood of admission. Further, columns that don't offer significant predictive value, such as 'Serial No.', are removed to streamline the dataset."
   ]
  },
  {
   "cell_type": "code",
   "execution_count": 3,
   "id": "89c3ae69",
   "metadata": {},
   "outputs": [],
   "source": [
    "# Convert chance of admit into binary class\n",
    "data['Admit'] = data['Chance of Admit '].apply(lambda x: 1 if x > 0.8 else 0)\n",
    "data = data.drop(['Serial No.', 'Chance of Admit '], axis=1)"
   ]
  },
  {
   "cell_type": "markdown",
   "id": "f4ddc117",
   "metadata": {},
   "source": [
    "### 3.1.2 One-hot Encoding\n",
    "Certain features, like 'University Rating', are categorical in nature. Representing them as one-hot encoded vectors makes them more digestible for our model. This process involves creating separate columns for each unique category and representing the presence of that category with a binary value."
   ]
  },
  {
   "cell_type": "code",
   "execution_count": 4,
   "id": "f4343d51",
   "metadata": {},
   "outputs": [],
   "source": [
    "# One-hot encode the 'University Rating' column\n",
    "one_hot_data = pd.concat([data, pd.get_dummies(data['University Rating'], prefix='University Rating')], axis=1)\n",
    "one_hot_data = one_hot_data.drop(columns='University Rating')"
   ]
  },
  {
   "cell_type": "markdown",
   "id": "42a1efce",
   "metadata": {},
   "source": [
    "### 3.1.3 Data Splitting\n",
    "To train and evaluate the model, the data is divided into training (80%) and testing (20%) sets. This allows us to train our model on a subset of the data and then test its performance on unseen data, providing an assessment of its generalization capabilities."
   ]
  },
  {
   "cell_type": "code",
   "execution_count": 5,
   "id": "bb8b3c7c",
   "metadata": {},
   "outputs": [],
   "source": [
    "# Splitting the data into training and test datasets.\n",
    "# 80% of the data is reserved for training and 20% for testing purposes.\n",
    "features = one_hot_data.drop(['Admit'], axis=1)\n",
    "target = one_hot_data['Admit']\n",
    "X_train, X_test, y_train, y_test = train_test_split(features, target, test_size=0.2, random_state=42)"
   ]
  },
  {
   "cell_type": "markdown",
   "id": "67d52b30",
   "metadata": {},
   "source": [
    "### 3.1.4 Feature Normalization\n",
    "For efficient training of neural networks, it's imperative that the feature values are normalized. This ensures all features are on a similar scale, which aids in faster convergence during training and can lead to improved model performance."
   ]
  },
  {
   "cell_type": "code",
   "execution_count": 6,
   "id": "311d6f3a",
   "metadata": {},
   "outputs": [],
   "source": [
    "# Normalizing feature values to ensure they are on a similar scale.\n",
    "# This is essential for training neural networks as it aids in faster convergence and better performance.\n",
    "scaler = MinMaxScaler()\n",
    "X_train_normalized = scaler.fit_transform(X_train)\n",
    "X_test_normalized = scaler.transform(X_test)"
   ]
  },
  {
   "cell_type": "markdown",
   "id": "37a7e8ec",
   "metadata": {},
   "source": [
    "<br>\n",
    "\n",
    "## 3.2 Modeling"
   ]
  },
  {
   "cell_type": "markdown",
   "id": "d6dac66c",
   "metadata": {},
   "source": [
    "### 3.2.1 Common Sense Baseline\n",
    "Before we dive into complex modeling, it's crucial to establish a basic benchmark. One straightforward approach is to always predict the most frequently occurring class in our training data. This offers us a 'common sense' baseline accuracy which our deep learning model should ideally surpass to be considered useful."
   ]
  },
  {
   "cell_type": "code",
   "execution_count": 7,
   "id": "4792c046",
   "metadata": {},
   "outputs": [
    {
     "name": "stdout",
     "output_type": "stream",
     "text": [
      "Common Sense Baseline Accuracy: 0.7125\n",
      "\n"
     ]
    }
   ],
   "source": [
    "# Common sense baseline\n",
    "baseline_accuracy = max(y_train.value_counts(normalize=True))\n",
    "print(f\"Common Sense Baseline Accuracy: {baseline_accuracy:.4f}\\n\")"
   ]
  },
  {
   "cell_type": "markdown",
   "id": "3006b6bf",
   "metadata": {},
   "source": [
    "### 3.2.2 Initial Neural Network Model\n",
    "We commence our modeling with a simple neural network, referred to here as 'model_1'. It consists of a single hidden layer with 16 units. This 'small model' serves as an initial foray into the modeling process, allowing us to gauge how a basic model performs on our dataset."
   ]
  },
  {
   "cell_type": "code",
   "execution_count": 8,
   "id": "243d69f4",
   "metadata": {},
   "outputs": [
    {
     "name": "stdout",
     "output_type": "stream",
     "text": [
      "Epoch 1/150\n",
      "12/12 - 1s - loss: 0.7360 - accuracy: 0.3944 - val_loss: 0.7135 - val_accuracy: 0.4000 - 912ms/epoch - 76ms/step\n",
      "Epoch 2/150\n",
      "12/12 - 0s - loss: 0.6950 - accuracy: 0.4917 - val_loss: 0.6994 - val_accuracy: 0.4750 - 47ms/epoch - 4ms/step\n",
      "Epoch 3/150\n",
      "12/12 - 0s - loss: 0.6636 - accuracy: 0.5972 - val_loss: 0.6875 - val_accuracy: 0.5500 - 48ms/epoch - 4ms/step\n",
      "Epoch 4/150\n",
      "12/12 - 0s - loss: 0.6362 - accuracy: 0.6833 - val_loss: 0.6730 - val_accuracy: 0.5750 - 47ms/epoch - 4ms/step\n",
      "Epoch 5/150\n",
      "12/12 - 0s - loss: 0.6112 - accuracy: 0.7000 - val_loss: 0.6505 - val_accuracy: 0.5750 - 47ms/epoch - 4ms/step\n",
      "Epoch 6/150\n",
      "12/12 - 0s - loss: 0.5879 - accuracy: 0.7000 - val_loss: 0.6278 - val_accuracy: 0.6000 - 51ms/epoch - 4ms/step\n",
      "Epoch 7/150\n",
      "12/12 - 0s - loss: 0.5672 - accuracy: 0.7028 - val_loss: 0.6072 - val_accuracy: 0.6000 - 46ms/epoch - 4ms/step\n",
      "Epoch 8/150\n",
      "12/12 - 0s - loss: 0.5464 - accuracy: 0.7056 - val_loss: 0.5857 - val_accuracy: 0.6250 - 50ms/epoch - 4ms/step\n",
      "Epoch 9/150\n",
      "12/12 - 0s - loss: 0.5276 - accuracy: 0.7167 - val_loss: 0.5637 - val_accuracy: 0.6500 - 49ms/epoch - 4ms/step\n",
      "Epoch 10/150\n",
      "12/12 - 0s - loss: 0.5087 - accuracy: 0.7556 - val_loss: 0.5389 - val_accuracy: 0.8000 - 49ms/epoch - 4ms/step\n",
      "Epoch 11/150\n",
      "12/12 - 0s - loss: 0.4900 - accuracy: 0.8250 - val_loss: 0.5158 - val_accuracy: 0.9250 - 46ms/epoch - 4ms/step\n",
      "Epoch 12/150\n",
      "12/12 - 0s - loss: 0.4738 - accuracy: 0.8556 - val_loss: 0.4960 - val_accuracy: 0.9250 - 49ms/epoch - 4ms/step\n",
      "Epoch 13/150\n",
      "12/12 - 0s - loss: 0.4588 - accuracy: 0.8556 - val_loss: 0.4761 - val_accuracy: 0.9250 - 48ms/epoch - 4ms/step\n",
      "Epoch 14/150\n",
      "12/12 - 0s - loss: 0.4446 - accuracy: 0.8583 - val_loss: 0.4600 - val_accuracy: 0.9250 - 47ms/epoch - 4ms/step\n",
      "Epoch 15/150\n",
      "12/12 - 0s - loss: 0.4333 - accuracy: 0.8500 - val_loss: 0.4433 - val_accuracy: 0.9250 - 47ms/epoch - 4ms/step\n",
      "Epoch 16/150\n",
      "12/12 - 0s - loss: 0.4219 - accuracy: 0.8528 - val_loss: 0.4332 - val_accuracy: 0.9250 - 43ms/epoch - 4ms/step\n",
      "Epoch 17/150\n",
      "12/12 - 0s - loss: 0.4134 - accuracy: 0.8556 - val_loss: 0.4216 - val_accuracy: 0.9250 - 48ms/epoch - 4ms/step\n",
      "Epoch 18/150\n",
      "12/12 - 0s - loss: 0.4034 - accuracy: 0.8528 - val_loss: 0.4059 - val_accuracy: 0.9250 - 45ms/epoch - 4ms/step\n",
      "Epoch 19/150\n",
      "12/12 - 0s - loss: 0.3961 - accuracy: 0.8500 - val_loss: 0.3934 - val_accuracy: 0.9250 - 45ms/epoch - 4ms/step\n",
      "Epoch 20/150\n",
      "12/12 - 0s - loss: 0.3883 - accuracy: 0.8500 - val_loss: 0.3840 - val_accuracy: 0.9250 - 46ms/epoch - 4ms/step\n",
      "Epoch 21/150\n",
      "12/12 - 0s - loss: 0.3806 - accuracy: 0.8556 - val_loss: 0.3763 - val_accuracy: 0.9250 - 49ms/epoch - 4ms/step\n",
      "Epoch 22/150\n",
      "12/12 - 0s - loss: 0.3735 - accuracy: 0.8583 - val_loss: 0.3662 - val_accuracy: 0.9250 - 53ms/epoch - 4ms/step\n",
      "Epoch 23/150\n",
      "12/12 - 0s - loss: 0.3671 - accuracy: 0.8583 - val_loss: 0.3587 - val_accuracy: 0.9250 - 49ms/epoch - 4ms/step\n",
      "Epoch 24/150\n",
      "12/12 - 0s - loss: 0.3611 - accuracy: 0.8583 - val_loss: 0.3546 - val_accuracy: 0.9250 - 48ms/epoch - 4ms/step\n",
      "Epoch 25/150\n",
      "12/12 - 0s - loss: 0.3561 - accuracy: 0.8611 - val_loss: 0.3515 - val_accuracy: 0.9250 - 50ms/epoch - 4ms/step\n",
      "Epoch 26/150\n",
      "12/12 - 0s - loss: 0.3506 - accuracy: 0.8583 - val_loss: 0.3439 - val_accuracy: 0.9250 - 47ms/epoch - 4ms/step\n",
      "Epoch 27/150\n",
      "12/12 - 0s - loss: 0.3457 - accuracy: 0.8639 - val_loss: 0.3402 - val_accuracy: 0.9250 - 46ms/epoch - 4ms/step\n",
      "Epoch 28/150\n",
      "12/12 - 0s - loss: 0.3416 - accuracy: 0.8750 - val_loss: 0.3364 - val_accuracy: 0.9000 - 47ms/epoch - 4ms/step\n",
      "Epoch 29/150\n",
      "12/12 - 0s - loss: 0.3371 - accuracy: 0.8750 - val_loss: 0.3311 - val_accuracy: 0.9000 - 47ms/epoch - 4ms/step\n",
      "Epoch 30/150\n",
      "12/12 - 0s - loss: 0.3333 - accuracy: 0.8750 - val_loss: 0.3235 - val_accuracy: 0.9250 - 45ms/epoch - 4ms/step\n",
      "Epoch 31/150\n",
      "12/12 - 0s - loss: 0.3294 - accuracy: 0.8722 - val_loss: 0.3196 - val_accuracy: 0.9250 - 48ms/epoch - 4ms/step\n",
      "Epoch 32/150\n",
      "12/12 - 0s - loss: 0.3256 - accuracy: 0.8750 - val_loss: 0.3151 - val_accuracy: 0.9000 - 47ms/epoch - 4ms/step\n",
      "Epoch 33/150\n",
      "12/12 - 0s - loss: 0.3219 - accuracy: 0.8722 - val_loss: 0.3121 - val_accuracy: 0.9000 - 45ms/epoch - 4ms/step\n",
      "Epoch 34/150\n",
      "12/12 - 0s - loss: 0.3191 - accuracy: 0.8750 - val_loss: 0.3108 - val_accuracy: 0.9000 - 52ms/epoch - 4ms/step\n",
      "Epoch 35/150\n",
      "12/12 - 0s - loss: 0.3149 - accuracy: 0.8722 - val_loss: 0.3050 - val_accuracy: 0.9000 - 53ms/epoch - 4ms/step\n",
      "Epoch 36/150\n",
      "12/12 - 0s - loss: 0.3121 - accuracy: 0.8750 - val_loss: 0.3036 - val_accuracy: 0.9000 - 48ms/epoch - 4ms/step\n",
      "Epoch 37/150\n",
      "12/12 - 0s - loss: 0.3090 - accuracy: 0.8750 - val_loss: 0.2986 - val_accuracy: 0.9000 - 46ms/epoch - 4ms/step\n",
      "Epoch 38/150\n",
      "12/12 - 0s - loss: 0.3057 - accuracy: 0.8750 - val_loss: 0.2979 - val_accuracy: 0.9000 - 45ms/epoch - 4ms/step\n",
      "Epoch 39/150\n",
      "12/12 - 0s - loss: 0.3030 - accuracy: 0.8750 - val_loss: 0.2959 - val_accuracy: 0.9000 - 43ms/epoch - 4ms/step\n",
      "Epoch 40/150\n",
      "12/12 - 0s - loss: 0.3005 - accuracy: 0.8750 - val_loss: 0.2924 - val_accuracy: 0.9000 - 45ms/epoch - 4ms/step\n",
      "Epoch 41/150\n",
      "12/12 - 0s - loss: 0.2979 - accuracy: 0.8750 - val_loss: 0.2917 - val_accuracy: 0.9000 - 45ms/epoch - 4ms/step\n",
      "Epoch 42/150\n",
      "12/12 - 0s - loss: 0.2957 - accuracy: 0.8750 - val_loss: 0.2895 - val_accuracy: 0.9000 - 47ms/epoch - 4ms/step\n",
      "Epoch 43/150\n",
      "12/12 - 0s - loss: 0.2934 - accuracy: 0.8750 - val_loss: 0.2885 - val_accuracy: 0.9250 - 45ms/epoch - 4ms/step\n",
      "Epoch 44/150\n",
      "12/12 - 0s - loss: 0.2909 - accuracy: 0.8750 - val_loss: 0.2852 - val_accuracy: 0.9250 - 46ms/epoch - 4ms/step\n",
      "Epoch 45/150\n",
      "12/12 - 0s - loss: 0.2886 - accuracy: 0.8750 - val_loss: 0.2826 - val_accuracy: 0.9250 - 48ms/epoch - 4ms/step\n",
      "Epoch 46/150\n",
      "12/12 - 0s - loss: 0.2865 - accuracy: 0.8750 - val_loss: 0.2809 - val_accuracy: 0.9250 - 47ms/epoch - 4ms/step\n",
      "Epoch 47/150\n",
      "12/12 - 0s - loss: 0.2842 - accuracy: 0.8750 - val_loss: 0.2791 - val_accuracy: 0.9250 - 49ms/epoch - 4ms/step\n",
      "Epoch 48/150\n",
      "12/12 - 0s - loss: 0.2824 - accuracy: 0.8750 - val_loss: 0.2779 - val_accuracy: 0.9250 - 54ms/epoch - 4ms/step\n",
      "Epoch 49/150\n",
      "12/12 - 0s - loss: 0.2802 - accuracy: 0.8750 - val_loss: 0.2750 - val_accuracy: 0.9250 - 44ms/epoch - 4ms/step\n",
      "Epoch 50/150\n",
      "12/12 - 0s - loss: 0.2784 - accuracy: 0.8750 - val_loss: 0.2740 - val_accuracy: 0.9250 - 44ms/epoch - 4ms/step\n",
      "Epoch 51/150\n",
      "12/12 - 0s - loss: 0.2767 - accuracy: 0.8750 - val_loss: 0.2719 - val_accuracy: 0.9250 - 45ms/epoch - 4ms/step\n",
      "Epoch 52/150\n",
      "12/12 - 0s - loss: 0.2749 - accuracy: 0.8750 - val_loss: 0.2736 - val_accuracy: 0.9250 - 47ms/epoch - 4ms/step\n",
      "Epoch 53/150\n",
      "12/12 - 0s - loss: 0.2738 - accuracy: 0.8750 - val_loss: 0.2686 - val_accuracy: 0.9250 - 46ms/epoch - 4ms/step\n",
      "Epoch 54/150\n",
      "12/12 - 0s - loss: 0.2720 - accuracy: 0.8778 - val_loss: 0.2683 - val_accuracy: 0.9250 - 44ms/epoch - 4ms/step\n",
      "Epoch 55/150\n",
      "12/12 - 0s - loss: 0.2697 - accuracy: 0.8778 - val_loss: 0.2697 - val_accuracy: 0.9250 - 45ms/epoch - 4ms/step\n",
      "Epoch 56/150\n",
      "12/12 - 0s - loss: 0.2685 - accuracy: 0.8778 - val_loss: 0.2664 - val_accuracy: 0.9250 - 46ms/epoch - 4ms/step\n",
      "Epoch 57/150\n",
      "12/12 - 0s - loss: 0.2666 - accuracy: 0.8778 - val_loss: 0.2651 - val_accuracy: 0.9250 - 45ms/epoch - 4ms/step\n",
      "Epoch 58/150\n",
      "12/12 - 0s - loss: 0.2664 - accuracy: 0.8833 - val_loss: 0.2687 - val_accuracy: 0.9250 - 46ms/epoch - 4ms/step\n",
      "Epoch 59/150\n",
      "12/12 - 0s - loss: 0.2639 - accuracy: 0.8861 - val_loss: 0.2619 - val_accuracy: 0.9250 - 43ms/epoch - 4ms/step\n",
      "Epoch 60/150\n",
      "12/12 - 0s - loss: 0.2624 - accuracy: 0.8778 - val_loss: 0.2591 - val_accuracy: 0.9250 - 48ms/epoch - 4ms/step\n",
      "Epoch 61/150\n",
      "12/12 - 0s - loss: 0.2623 - accuracy: 0.8806 - val_loss: 0.2620 - val_accuracy: 0.9250 - 46ms/epoch - 4ms/step\n",
      "Epoch 62/150\n",
      "12/12 - 0s - loss: 0.2609 - accuracy: 0.8833 - val_loss: 0.2568 - val_accuracy: 0.9250 - 56ms/epoch - 5ms/step\n",
      "Epoch 63/150\n",
      "12/12 - 0s - loss: 0.2582 - accuracy: 0.8833 - val_loss: 0.2635 - val_accuracy: 0.9250 - 56ms/epoch - 5ms/step\n",
      "Epoch 64/150\n",
      "12/12 - 0s - loss: 0.2571 - accuracy: 0.8833 - val_loss: 0.2618 - val_accuracy: 0.9250 - 51ms/epoch - 4ms/step\n",
      "Epoch 65/150\n",
      "12/12 - 0s - loss: 0.2558 - accuracy: 0.8833 - val_loss: 0.2592 - val_accuracy: 0.9250 - 50ms/epoch - 4ms/step\n",
      "Epoch 66/150\n",
      "12/12 - 0s - loss: 0.2553 - accuracy: 0.8833 - val_loss: 0.2551 - val_accuracy: 0.9250 - 55ms/epoch - 5ms/step\n",
      "Epoch 67/150\n",
      "12/12 - 0s - loss: 0.2535 - accuracy: 0.8833 - val_loss: 0.2556 - val_accuracy: 0.9250 - 56ms/epoch - 5ms/step\n"
     ]
    },
    {
     "name": "stdout",
     "output_type": "stream",
     "text": [
      "Epoch 68/150\n",
      "12/12 - 0s - loss: 0.2525 - accuracy: 0.8833 - val_loss: 0.2568 - val_accuracy: 0.9250 - 54ms/epoch - 5ms/step\n",
      "Epoch 69/150\n",
      "12/12 - 0s - loss: 0.2510 - accuracy: 0.8861 - val_loss: 0.2583 - val_accuracy: 0.9250 - 49ms/epoch - 4ms/step\n",
      "Epoch 70/150\n",
      "12/12 - 0s - loss: 0.2503 - accuracy: 0.8833 - val_loss: 0.2574 - val_accuracy: 0.9250 - 44ms/epoch - 4ms/step\n",
      "Epoch 71/150\n",
      "12/12 - 0s - loss: 0.2486 - accuracy: 0.8889 - val_loss: 0.2597 - val_accuracy: 0.9250 - 44ms/epoch - 4ms/step\n",
      "Epoch 72/150\n",
      "12/12 - 0s - loss: 0.2484 - accuracy: 0.8889 - val_loss: 0.2610 - val_accuracy: 0.9250 - 46ms/epoch - 4ms/step\n",
      "Epoch 73/150\n",
      "12/12 - 0s - loss: 0.2475 - accuracy: 0.8917 - val_loss: 0.2598 - val_accuracy: 0.9250 - 48ms/epoch - 4ms/step\n",
      "Epoch 74/150\n",
      "12/12 - 0s - loss: 0.2453 - accuracy: 0.8889 - val_loss: 0.2524 - val_accuracy: 0.9250 - 48ms/epoch - 4ms/step\n",
      "Epoch 75/150\n",
      "12/12 - 0s - loss: 0.2445 - accuracy: 0.8833 - val_loss: 0.2517 - val_accuracy: 0.9250 - 44ms/epoch - 4ms/step\n",
      "Epoch 76/150\n",
      "12/12 - 0s - loss: 0.2436 - accuracy: 0.8833 - val_loss: 0.2518 - val_accuracy: 0.9250 - 44ms/epoch - 4ms/step\n",
      "Epoch 77/150\n",
      "12/12 - 0s - loss: 0.2421 - accuracy: 0.8889 - val_loss: 0.2591 - val_accuracy: 0.9250 - 44ms/epoch - 4ms/step\n",
      "Epoch 78/150\n",
      "12/12 - 0s - loss: 0.2417 - accuracy: 0.8944 - val_loss: 0.2555 - val_accuracy: 0.9250 - 48ms/epoch - 4ms/step\n",
      "Epoch 79/150\n",
      "12/12 - 0s - loss: 0.2401 - accuracy: 0.8889 - val_loss: 0.2494 - val_accuracy: 0.9250 - 52ms/epoch - 4ms/step\n",
      "Epoch 80/150\n",
      "12/12 - 0s - loss: 0.2395 - accuracy: 0.8889 - val_loss: 0.2500 - val_accuracy: 0.9250 - 48ms/epoch - 4ms/step\n",
      "Epoch 81/150\n",
      "12/12 - 0s - loss: 0.2389 - accuracy: 0.8889 - val_loss: 0.2497 - val_accuracy: 0.9250 - 52ms/epoch - 4ms/step\n",
      "Epoch 82/150\n",
      "12/12 - 0s - loss: 0.2378 - accuracy: 0.8889 - val_loss: 0.2509 - val_accuracy: 0.9250 - 49ms/epoch - 4ms/step\n",
      "Epoch 83/150\n",
      "12/12 - 0s - loss: 0.2369 - accuracy: 0.8889 - val_loss: 0.2456 - val_accuracy: 0.9250 - 51ms/epoch - 4ms/step\n",
      "Epoch 84/150\n",
      "12/12 - 0s - loss: 0.2362 - accuracy: 0.8889 - val_loss: 0.2440 - val_accuracy: 0.9250 - 46ms/epoch - 4ms/step\n",
      "Epoch 85/150\n",
      "12/12 - 0s - loss: 0.2359 - accuracy: 0.8944 - val_loss: 0.2503 - val_accuracy: 0.9250 - 52ms/epoch - 4ms/step\n",
      "Epoch 86/150\n",
      "12/12 - 0s - loss: 0.2342 - accuracy: 0.8944 - val_loss: 0.2507 - val_accuracy: 0.9250 - 50ms/epoch - 4ms/step\n",
      "Epoch 87/150\n",
      "12/12 - 0s - loss: 0.2330 - accuracy: 0.8944 - val_loss: 0.2465 - val_accuracy: 0.9250 - 50ms/epoch - 4ms/step\n",
      "Epoch 88/150\n",
      "12/12 - 0s - loss: 0.2318 - accuracy: 0.8889 - val_loss: 0.2442 - val_accuracy: 0.9250 - 57ms/epoch - 5ms/step\n",
      "Epoch 89/150\n",
      "12/12 - 0s - loss: 0.2334 - accuracy: 0.8917 - val_loss: 0.2389 - val_accuracy: 0.9250 - 55ms/epoch - 5ms/step\n",
      "Epoch 90/150\n",
      "12/12 - 0s - loss: 0.2308 - accuracy: 0.8889 - val_loss: 0.2423 - val_accuracy: 0.9250 - 55ms/epoch - 5ms/step\n",
      "Epoch 91/150\n",
      "12/12 - 0s - loss: 0.2299 - accuracy: 0.8944 - val_loss: 0.2426 - val_accuracy: 0.9250 - 53ms/epoch - 4ms/step\n",
      "Epoch 92/150\n",
      "12/12 - 0s - loss: 0.2289 - accuracy: 0.8972 - val_loss: 0.2435 - val_accuracy: 0.9250 - 48ms/epoch - 4ms/step\n",
      "Epoch 93/150\n",
      "12/12 - 0s - loss: 0.2282 - accuracy: 0.8944 - val_loss: 0.2392 - val_accuracy: 0.9250 - 58ms/epoch - 5ms/step\n",
      "Epoch 94/150\n",
      "12/12 - 0s - loss: 0.2266 - accuracy: 0.8944 - val_loss: 0.2419 - val_accuracy: 0.9250 - 52ms/epoch - 4ms/step\n",
      "Epoch 95/150\n",
      "12/12 - 0s - loss: 0.2263 - accuracy: 0.8944 - val_loss: 0.2410 - val_accuracy: 0.9250 - 55ms/epoch - 5ms/step\n",
      "Epoch 96/150\n",
      "12/12 - 0s - loss: 0.2250 - accuracy: 0.8972 - val_loss: 0.2419 - val_accuracy: 0.9250 - 52ms/epoch - 4ms/step\n",
      "Epoch 97/150\n",
      "12/12 - 0s - loss: 0.2241 - accuracy: 0.9000 - val_loss: 0.2437 - val_accuracy: 0.9250 - 48ms/epoch - 4ms/step\n",
      "Epoch 98/150\n",
      "12/12 - 0s - loss: 0.2234 - accuracy: 0.9000 - val_loss: 0.2418 - val_accuracy: 0.9250 - 47ms/epoch - 4ms/step\n",
      "Epoch 99/150\n",
      "12/12 - 0s - loss: 0.2226 - accuracy: 0.9000 - val_loss: 0.2439 - val_accuracy: 0.9250 - 50ms/epoch - 4ms/step\n",
      "Epoch 100/150\n",
      "12/12 - 0s - loss: 0.2220 - accuracy: 0.9028 - val_loss: 0.2422 - val_accuracy: 0.9250 - 52ms/epoch - 4ms/step\n",
      "Epoch 101/150\n",
      "12/12 - 0s - loss: 0.2210 - accuracy: 0.9028 - val_loss: 0.2391 - val_accuracy: 0.9250 - 60ms/epoch - 5ms/step\n",
      "Epoch 102/150\n",
      "12/12 - 0s - loss: 0.2201 - accuracy: 0.9000 - val_loss: 0.2369 - val_accuracy: 0.9250 - 55ms/epoch - 5ms/step\n",
      "Epoch 103/150\n",
      "12/12 - 0s - loss: 0.2195 - accuracy: 0.8972 - val_loss: 0.2373 - val_accuracy: 0.9250 - 52ms/epoch - 4ms/step\n",
      "Epoch 104/150\n",
      "12/12 - 0s - loss: 0.2192 - accuracy: 0.9028 - val_loss: 0.2395 - val_accuracy: 0.9250 - 50ms/epoch - 4ms/step\n",
      "Epoch 105/150\n",
      "12/12 - 0s - loss: 0.2181 - accuracy: 0.9028 - val_loss: 0.2414 - val_accuracy: 0.9250 - 50ms/epoch - 4ms/step\n",
      "Epoch 106/150\n",
      "12/12 - 0s - loss: 0.2180 - accuracy: 0.9028 - val_loss: 0.2347 - val_accuracy: 0.9250 - 50ms/epoch - 4ms/step\n",
      "Epoch 107/150\n",
      "12/12 - 0s - loss: 0.2169 - accuracy: 0.9056 - val_loss: 0.2366 - val_accuracy: 0.9250 - 58ms/epoch - 5ms/step\n",
      "Epoch 108/150\n",
      "12/12 - 0s - loss: 0.2158 - accuracy: 0.9056 - val_loss: 0.2372 - val_accuracy: 0.9250 - 56ms/epoch - 5ms/step\n",
      "Epoch 109/150\n",
      "12/12 - 0s - loss: 0.2163 - accuracy: 0.9083 - val_loss: 0.2336 - val_accuracy: 0.9250 - 50ms/epoch - 4ms/step\n",
      "Epoch 110/150\n",
      "12/12 - 0s - loss: 0.2145 - accuracy: 0.9111 - val_loss: 0.2371 - val_accuracy: 0.9250 - 44ms/epoch - 4ms/step\n",
      "Epoch 111/150\n",
      "12/12 - 0s - loss: 0.2137 - accuracy: 0.9056 - val_loss: 0.2391 - val_accuracy: 0.9250 - 44ms/epoch - 4ms/step\n",
      "Epoch 112/150\n",
      "12/12 - 0s - loss: 0.2132 - accuracy: 0.9056 - val_loss: 0.2365 - val_accuracy: 0.9250 - 51ms/epoch - 4ms/step\n",
      "Epoch 113/150\n",
      "12/12 - 0s - loss: 0.2126 - accuracy: 0.9111 - val_loss: 0.2370 - val_accuracy: 0.9250 - 52ms/epoch - 4ms/step\n",
      "Epoch 114/150\n",
      "12/12 - 0s - loss: 0.2121 - accuracy: 0.9111 - val_loss: 0.2388 - val_accuracy: 0.9250 - 52ms/epoch - 4ms/step\n",
      "Epoch 115/150\n",
      "12/12 - 0s - loss: 0.2113 - accuracy: 0.9111 - val_loss: 0.2353 - val_accuracy: 0.9250 - 57ms/epoch - 5ms/step\n",
      "Epoch 116/150\n",
      "12/12 - 0s - loss: 0.2106 - accuracy: 0.9111 - val_loss: 0.2333 - val_accuracy: 0.9250 - 50ms/epoch - 4ms/step\n",
      "Epoch 117/150\n",
      "12/12 - 0s - loss: 0.2099 - accuracy: 0.9139 - val_loss: 0.2333 - val_accuracy: 0.9250 - 45ms/epoch - 4ms/step\n",
      "Epoch 118/150\n",
      "12/12 - 0s - loss: 0.2112 - accuracy: 0.9167 - val_loss: 0.2405 - val_accuracy: 0.9250 - 44ms/epoch - 4ms/step\n",
      "Epoch 119/150\n",
      "12/12 - 0s - loss: 0.2085 - accuracy: 0.9194 - val_loss: 0.2342 - val_accuracy: 0.9250 - 50ms/epoch - 4ms/step\n",
      "Epoch 120/150\n",
      "12/12 - 0s - loss: 0.2088 - accuracy: 0.9139 - val_loss: 0.2304 - val_accuracy: 0.9250 - 52ms/epoch - 4ms/step\n",
      "Epoch 121/150\n",
      "12/12 - 0s - loss: 0.2089 - accuracy: 0.9167 - val_loss: 0.2387 - val_accuracy: 0.9250 - 51ms/epoch - 4ms/step\n",
      "Epoch 122/150\n",
      "12/12 - 0s - loss: 0.2067 - accuracy: 0.9167 - val_loss: 0.2337 - val_accuracy: 0.9250 - 53ms/epoch - 4ms/step\n",
      "Epoch 123/150\n",
      "12/12 - 0s - loss: 0.2076 - accuracy: 0.9167 - val_loss: 0.2300 - val_accuracy: 0.9250 - 49ms/epoch - 4ms/step\n",
      "Epoch 124/150\n",
      "12/12 - 0s - loss: 0.2066 - accuracy: 0.9250 - val_loss: 0.2395 - val_accuracy: 0.9250 - 47ms/epoch - 4ms/step\n",
      "Epoch 125/150\n",
      "12/12 - 0s - loss: 0.2059 - accuracy: 0.9250 - val_loss: 0.2327 - val_accuracy: 0.9250 - 53ms/epoch - 4ms/step\n",
      "Epoch 126/150\n",
      "12/12 - 0s - loss: 0.2054 - accuracy: 0.9167 - val_loss: 0.2313 - val_accuracy: 0.9250 - 61ms/epoch - 5ms/step\n",
      "Epoch 127/150\n",
      "12/12 - 0s - loss: 0.2041 - accuracy: 0.9194 - val_loss: 0.2347 - val_accuracy: 0.9250 - 51ms/epoch - 4ms/step\n",
      "Epoch 128/150\n",
      "12/12 - 0s - loss: 0.2038 - accuracy: 0.9222 - val_loss: 0.2366 - val_accuracy: 0.9250 - 53ms/epoch - 4ms/step\n",
      "Epoch 129/150\n",
      "12/12 - 0s - loss: 0.2028 - accuracy: 0.9222 - val_loss: 0.2316 - val_accuracy: 0.9250 - 52ms/epoch - 4ms/step\n",
      "Epoch 130/150\n",
      "12/12 - 0s - loss: 0.2023 - accuracy: 0.9194 - val_loss: 0.2326 - val_accuracy: 0.9250 - 48ms/epoch - 4ms/step\n",
      "Epoch 131/150\n",
      "12/12 - 0s - loss: 0.2019 - accuracy: 0.9222 - val_loss: 0.2315 - val_accuracy: 0.9250 - 54ms/epoch - 4ms/step\n",
      "Epoch 132/150\n",
      "12/12 - 0s - loss: 0.2012 - accuracy: 0.9222 - val_loss: 0.2304 - val_accuracy: 0.9250 - 59ms/epoch - 5ms/step\n",
      "Epoch 133/150\n",
      "12/12 - 0s - loss: 0.2009 - accuracy: 0.9194 - val_loss: 0.2282 - val_accuracy: 0.9250 - 54ms/epoch - 4ms/step\n"
     ]
    },
    {
     "name": "stdout",
     "output_type": "stream",
     "text": [
      "Epoch 134/150\n",
      "12/12 - 0s - loss: 0.2009 - accuracy: 0.9194 - val_loss: 0.2299 - val_accuracy: 0.9250 - 53ms/epoch - 4ms/step\n",
      "Epoch 135/150\n",
      "12/12 - 0s - loss: 0.2000 - accuracy: 0.9194 - val_loss: 0.2287 - val_accuracy: 0.9250 - 50ms/epoch - 4ms/step\n",
      "Epoch 136/150\n",
      "12/12 - 0s - loss: 0.1996 - accuracy: 0.9194 - val_loss: 0.2268 - val_accuracy: 0.9250 - 50ms/epoch - 4ms/step\n",
      "Epoch 137/150\n",
      "12/12 - 0s - loss: 0.1991 - accuracy: 0.9194 - val_loss: 0.2261 - val_accuracy: 0.9250 - 52ms/epoch - 4ms/step\n",
      "Epoch 138/150\n",
      "12/12 - 0s - loss: 0.1987 - accuracy: 0.9167 - val_loss: 0.2247 - val_accuracy: 0.9250 - 55ms/epoch - 5ms/step\n",
      "Epoch 139/150\n",
      "12/12 - 0s - loss: 0.1986 - accuracy: 0.9194 - val_loss: 0.2293 - val_accuracy: 0.9250 - 54ms/epoch - 4ms/step\n",
      "Epoch 140/150\n",
      "12/12 - 0s - loss: 0.1974 - accuracy: 0.9222 - val_loss: 0.2279 - val_accuracy: 0.9250 - 50ms/epoch - 4ms/step\n",
      "Epoch 141/150\n",
      "12/12 - 0s - loss: 0.1968 - accuracy: 0.9222 - val_loss: 0.2280 - val_accuracy: 0.9250 - 52ms/epoch - 4ms/step\n",
      "Epoch 142/150\n",
      "12/12 - 0s - loss: 0.1966 - accuracy: 0.9222 - val_loss: 0.2283 - val_accuracy: 0.9250 - 51ms/epoch - 4ms/step\n",
      "Epoch 143/150\n",
      "12/12 - 0s - loss: 0.1964 - accuracy: 0.9222 - val_loss: 0.2285 - val_accuracy: 0.9250 - 50ms/epoch - 4ms/step\n",
      "Epoch 144/150\n",
      "12/12 - 0s - loss: 0.1962 - accuracy: 0.9194 - val_loss: 0.2253 - val_accuracy: 0.9250 - 56ms/epoch - 5ms/step\n",
      "Epoch 145/150\n",
      "12/12 - 0s - loss: 0.1946 - accuracy: 0.9222 - val_loss: 0.2290 - val_accuracy: 0.9250 - 53ms/epoch - 4ms/step\n",
      "Epoch 146/150\n",
      "12/12 - 0s - loss: 0.1972 - accuracy: 0.9250 - val_loss: 0.2353 - val_accuracy: 0.9250 - 49ms/epoch - 4ms/step\n",
      "Epoch 147/150\n",
      "12/12 - 0s - loss: 0.1957 - accuracy: 0.9278 - val_loss: 0.2264 - val_accuracy: 0.9250 - 43ms/epoch - 4ms/step\n",
      "Epoch 148/150\n",
      "12/12 - 0s - loss: 0.1937 - accuracy: 0.9250 - val_loss: 0.2309 - val_accuracy: 0.9250 - 50ms/epoch - 4ms/step\n",
      "Epoch 149/150\n",
      "12/12 - 0s - loss: 0.1944 - accuracy: 0.9222 - val_loss: 0.2317 - val_accuracy: 0.9250 - 50ms/epoch - 4ms/step\n",
      "Epoch 150/150\n",
      "12/12 - 0s - loss: 0.1934 - accuracy: 0.9250 - val_loss: 0.2269 - val_accuracy: 0.9250 - 48ms/epoch - 4ms/step\n"
     ]
    }
   ],
   "source": [
    "# Model_1\n",
    "model_1 = Sequential()\n",
    "model_1.add(Dense(16, activation='relu', input_shape=(11,)))\n",
    "model_1.add(Dense(1, activation='sigmoid'))\n",
    "model_1.compile(loss='binary_crossentropy', optimizer='adam', metrics=['accuracy'])\n",
    "history_1 = model_1.fit(X_train_normalized, y_train, validation_split=0.1, epochs=150, verbose=2)"
   ]
  },
  {
   "cell_type": "markdown",
   "id": "eba24f7f",
   "metadata": {},
   "source": [
    "### 3.2.3 Visualizing Training Progress\n",
    "Training a neural network is an iterative process, and visualizing its learning progress can provide insights into its performance. By plotting the loss and accuracy over each epoch for both training and validation data, we can identify potential overfitting and assess the model's capacity."
   ]
  },
  {
   "cell_type": "code",
   "execution_count": 9,
   "id": "47111918",
   "metadata": {},
   "outputs": [
    {
     "data": {
      "image/png": "[encoded data removed]",
      "text/plain": [
       "<Figure size 640x480 with 1 Axes>"
      ]
     },
     "metadata": {},
     "output_type": "display_data"
    }
   ],
   "source": [
    "# Plotting loss and validation loss to visualize overfitting\n",
    "plt.plot(history_1.history['loss'])\n",
    "plt.plot(history_1.history['val_loss'])\n",
    "plt.title('Loss vs Epochs')\n",
    "plt.ylabel('Loss')\n",
    "plt.xlabel('Epoch')\n",
    "plt.legend(['Training', 'Validation'], loc='upper right')\n",
    "plt.show()"
   ]
  },
  {
   "cell_type": "code",
   "execution_count": 10,
   "id": "561e0058",
   "metadata": {},
   "outputs": [
    {
     "data": {
      "image/png": "[encoded data removed]",
      "text/plain": [
       "<Figure size 640x480 with 1 Axes>"
      ]
     },
     "metadata": {},
     "output_type": "display_data"
    }
   ],
   "source": [
    "# Plotting training and validation accuracy to assess model performance\n",
    "plt.figure()\n",
    "plt.plot(history_1.history['accuracy'])\n",
    "plt.plot(history_1.history['val_accuracy'])\n",
    "plt.title('Accuracy vs Epochs')\n",
    "plt.ylabel('Accuracy')\n",
    "plt.xlabel('Epoch')\n",
    "plt.legend(['Training', 'Validation'], loc='lower right')\n",
    "plt.show()"
   ]
  },
  {
   "cell_type": "markdown",
   "id": "e6d2d982",
   "metadata": {},
   "source": [
    "### 3.3.3 Optimal Epoch Selection\n",
    "To prevent overfitting and ensure efficient training, it's crucial to identify the optimal number of epochs. By monitoring the validation loss, we determine the point at which the model begins to overfit, thus providing a guideline for the total number of epochs in subsequent training."
   ]
  },
  {
   "cell_type": "code",
   "execution_count": 11,
   "id": "e60de4c4",
   "metadata": {},
   "outputs": [
    {
     "name": "stdout",
     "output_type": "stream",
     "text": [
      "Optimal number of epochs (before overfitting starts): 138\n",
      "\n"
     ]
    }
   ],
   "source": [
    "# Identify optimal epochs based on validation loss \n",
    "train_loss = history_1.history['loss']\n",
    "val_loss = history_1.history['val_loss']\n",
    "optimal_epochs = np.argmin(val_loss) + 1\n",
    "print(f\"Optimal number of epochs (before overfitting starts): {optimal_epochs}\\n\")"
   ]
  },
  {
   "cell_type": "markdown",
   "id": "b951a524",
   "metadata": {},
   "source": [
    "### 3.3.4 Hyperparameter Tuning - Learning Rate Search\n",
    "One of the vital hyperparameters in training neural networks is the learning rate. It dictates the step size the model takes during optimization. We iterate over a few predefined learning rates to identify the one that provides the best validation accuracy."
   ]
  },
  {
   "cell_type": "code",
   "execution_count": 12,
   "id": "ab38fc9b",
   "metadata": {},
   "outputs": [
    {
     "name": "stdout",
     "output_type": "stream",
     "text": [
      "Best learning rate from the models: 0.01\n",
      "\n"
     ]
    }
   ],
   "source": [
    "# Searching for the best learning rate\n",
    "best_val_acc = 0\n",
    "best_lr = 0.001\n",
    "\n",
    "for lr in [0.01, 0.001, 0.0001]:\n",
    "    tf.keras.backend.clear_session()\n",
    "    np.random.seed(42)\n",
    "    random.seed(42)\n",
    "    tf.random.set_seed(42)\n",
    "    \n",
    "    model_2 = Sequential()\n",
    "    model_2.add(Dense(256, activation='tanh', input_shape=(11,)))\n",
    "    model_2.add(Dropout(0.1))\n",
    "    model_2.add(Dense(128, activation='tanh'))\n",
    "    model_2.add(Dropout(0.1))\n",
    "    model_2.add(Dense(64, activation='tanh'))\n",
    "    model_2.add(Dropout(0.1))\n",
    "    model_2.add(Dense(32, activation='tanh'))\n",
    "    model_2.add(Dense(1, activation='sigmoid'))\n",
    "    model_2.compile(loss='binary_crossentropy', optimizer=tf.keras.optimizers.Adam(learning_rate=lr), metrics=['accuracy'])\n",
    "    \n",
    "    history = model_2.fit(X_train_normalized, y_train, validation_split=0.1, epochs=optimal_epochs, verbose=0)\n",
    "    if max(history.history['val_accuracy']) > best_val_acc:\n",
    "        best_val_acc = max(history.history['val_accuracy'])\n",
    "        best_lr = lr\n",
    "\n",
    "print(f\"Best learning rate from the models: {best_lr}\\n\")"
   ]
  },
  {
   "cell_type": "markdown",
   "id": "2ee61149",
   "metadata": {},
   "source": [
    "### 3.3.5 Final model training using \"Optimal epochs\" and \"Best learning rate\"\n",
    "Equipped with knowledge about the optimal number of epochs and best learning rate, we train our more elaborate neural network, 'model_3'. This model has a deeper architecture with additional hidden layers and dropout layers for regularization. It's expected to provide better performance due to its increased capacity and the regularization measures in place."
   ]
  },
  {
   "cell_type": "code",
   "execution_count": 13,
   "id": "34b3a3b6",
   "metadata": {},
   "outputs": [
    {
     "name": "stdout",
     "output_type": "stream",
     "text": [
      "Epoch 1/138\n",
      "13/13 - 1s - loss: 0.4992 - accuracy: 0.7150 - 1s/epoch - 107ms/step\n",
      "Epoch 2/138\n",
      "13/13 - 0s - loss: 0.3628 - accuracy: 0.8450 - 40ms/epoch - 3ms/step\n",
      "Epoch 3/138\n",
      "13/13 - 0s - loss: 0.3208 - accuracy: 0.8750 - 39ms/epoch - 3ms/step\n",
      "Epoch 4/138\n",
      "13/13 - 0s - loss: 0.3065 - accuracy: 0.8725 - 37ms/epoch - 3ms/step\n",
      "Epoch 5/138\n",
      "13/13 - 0s - loss: 0.2587 - accuracy: 0.8850 - 35ms/epoch - 3ms/step\n",
      "Epoch 6/138\n",
      "13/13 - 0s - loss: 0.2917 - accuracy: 0.8625 - 36ms/epoch - 3ms/step\n",
      "Epoch 7/138\n",
      "13/13 - 0s - loss: 0.2985 - accuracy: 0.8675 - 40ms/epoch - 3ms/step\n",
      "Epoch 8/138\n",
      "13/13 - 0s - loss: 0.2709 - accuracy: 0.8800 - 42ms/epoch - 3ms/step\n",
      "Epoch 9/138\n",
      "13/13 - 0s - loss: 0.3031 - accuracy: 0.8850 - 38ms/epoch - 3ms/step\n",
      "Epoch 10/138\n",
      "13/13 - 0s - loss: 0.2530 - accuracy: 0.9150 - 36ms/epoch - 3ms/step\n",
      "Epoch 11/138\n",
      "13/13 - 0s - loss: 0.2782 - accuracy: 0.8975 - 36ms/epoch - 3ms/step\n",
      "Epoch 12/138\n",
      "13/13 - 0s - loss: 0.3449 - accuracy: 0.8100 - 34ms/epoch - 3ms/step\n",
      "Epoch 13/138\n",
      "13/13 - 0s - loss: 0.2917 - accuracy: 0.8775 - 38ms/epoch - 3ms/step\n",
      "Epoch 14/138\n",
      "13/13 - 0s - loss: 0.2319 - accuracy: 0.8975 - 36ms/epoch - 3ms/step\n",
      "Epoch 15/138\n",
      "13/13 - 0s - loss: 0.2579 - accuracy: 0.9100 - 35ms/epoch - 3ms/step\n",
      "Epoch 16/138\n",
      "13/13 - 0s - loss: 0.2206 - accuracy: 0.9075 - 35ms/epoch - 3ms/step\n",
      "Epoch 17/138\n",
      "13/13 - 0s - loss: 0.2154 - accuracy: 0.9075 - 35ms/epoch - 3ms/step\n",
      "Epoch 18/138\n",
      "13/13 - 0s - loss: 0.2839 - accuracy: 0.8875 - 36ms/epoch - 3ms/step\n",
      "Epoch 19/138\n",
      "13/13 - 0s - loss: 0.2147 - accuracy: 0.9100 - 38ms/epoch - 3ms/step\n",
      "Epoch 20/138\n",
      "13/13 - 0s - loss: 0.2053 - accuracy: 0.9125 - 38ms/epoch - 3ms/step\n",
      "Epoch 21/138\n",
      "13/13 - 0s - loss: 0.2429 - accuracy: 0.9100 - 41ms/epoch - 3ms/step\n",
      "Epoch 22/138\n",
      "13/13 - 0s - loss: 0.2278 - accuracy: 0.8975 - 37ms/epoch - 3ms/step\n",
      "Epoch 23/138\n",
      "13/13 - 0s - loss: 0.2404 - accuracy: 0.9000 - 33ms/epoch - 3ms/step\n",
      "Epoch 24/138\n",
      "13/13 - 0s - loss: 0.2084 - accuracy: 0.8950 - 38ms/epoch - 3ms/step\n",
      "Epoch 25/138\n",
      "13/13 - 0s - loss: 0.2259 - accuracy: 0.9175 - 36ms/epoch - 3ms/step\n",
      "Epoch 26/138\n",
      "13/13 - 0s - loss: 0.2561 - accuracy: 0.8675 - 36ms/epoch - 3ms/step\n",
      "Epoch 27/138\n",
      "13/13 - 0s - loss: 0.2225 - accuracy: 0.9050 - 39ms/epoch - 3ms/step\n",
      "Epoch 28/138\n",
      "13/13 - 0s - loss: 0.2829 - accuracy: 0.8775 - 39ms/epoch - 3ms/step\n",
      "Epoch 29/138\n",
      "13/13 - 0s - loss: 0.1998 - accuracy: 0.9100 - 35ms/epoch - 3ms/step\n",
      "Epoch 30/138\n",
      "13/13 - 0s - loss: 0.2187 - accuracy: 0.8950 - 36ms/epoch - 3ms/step\n",
      "Epoch 31/138\n",
      "13/13 - 0s - loss: 0.1890 - accuracy: 0.9100 - 34ms/epoch - 3ms/step\n",
      "Epoch 32/138\n",
      "13/13 - 0s - loss: 0.2035 - accuracy: 0.9025 - 34ms/epoch - 3ms/step\n",
      "Epoch 33/138\n",
      "13/13 - 0s - loss: 0.1939 - accuracy: 0.9000 - 38ms/epoch - 3ms/step\n",
      "Epoch 34/138\n",
      "13/13 - 0s - loss: 0.1856 - accuracy: 0.9200 - 36ms/epoch - 3ms/step\n",
      "Epoch 35/138\n",
      "13/13 - 0s - loss: 0.2221 - accuracy: 0.8775 - 36ms/epoch - 3ms/step\n",
      "Epoch 36/138\n",
      "13/13 - 0s - loss: 0.1852 - accuracy: 0.9150 - 40ms/epoch - 3ms/step\n",
      "Epoch 37/138\n",
      "13/13 - 0s - loss: 0.2017 - accuracy: 0.9250 - 39ms/epoch - 3ms/step\n",
      "Epoch 38/138\n",
      "13/13 - 0s - loss: 0.2379 - accuracy: 0.9100 - 38ms/epoch - 3ms/step\n",
      "Epoch 39/138\n",
      "13/13 - 0s - loss: 0.2047 - accuracy: 0.9025 - 40ms/epoch - 3ms/step\n",
      "Epoch 40/138\n",
      "13/13 - 0s - loss: 0.1859 - accuracy: 0.9100 - 39ms/epoch - 3ms/step\n",
      "Epoch 41/138\n",
      "13/13 - 0s - loss: 0.1990 - accuracy: 0.8975 - 40ms/epoch - 3ms/step\n",
      "Epoch 42/138\n",
      "13/13 - 0s - loss: 0.2651 - accuracy: 0.8400 - 38ms/epoch - 3ms/step\n",
      "Epoch 43/138\n",
      "13/13 - 0s - loss: 0.1868 - accuracy: 0.9000 - 43ms/epoch - 3ms/step\n",
      "Epoch 44/138\n",
      "13/13 - 0s - loss: 0.1913 - accuracy: 0.9300 - 40ms/epoch - 3ms/step\n",
      "Epoch 45/138\n",
      "13/13 - 0s - loss: 0.1932 - accuracy: 0.9125 - 40ms/epoch - 3ms/step\n",
      "Epoch 46/138\n",
      "13/13 - 0s - loss: 0.1991 - accuracy: 0.9275 - 38ms/epoch - 3ms/step\n",
      "Epoch 47/138\n",
      "13/13 - 0s - loss: 0.3013 - accuracy: 0.8800 - 37ms/epoch - 3ms/step\n",
      "Epoch 48/138\n",
      "13/13 - 0s - loss: 0.3179 - accuracy: 0.8825 - 38ms/epoch - 3ms/step\n",
      "Epoch 49/138\n",
      "13/13 - 0s - loss: 0.2884 - accuracy: 0.8925 - 38ms/epoch - 3ms/step\n",
      "Epoch 50/138\n",
      "13/13 - 0s - loss: 0.2307 - accuracy: 0.9050 - 38ms/epoch - 3ms/step\n",
      "Epoch 51/138\n",
      "13/13 - 0s - loss: 0.1964 - accuracy: 0.9150 - 41ms/epoch - 3ms/step\n",
      "Epoch 52/138\n",
      "13/13 - 0s - loss: 0.1847 - accuracy: 0.9275 - 41ms/epoch - 3ms/step\n",
      "Epoch 53/138\n",
      "13/13 - 0s - loss: 0.1784 - accuracy: 0.9225 - 40ms/epoch - 3ms/step\n",
      "Epoch 54/138\n",
      "13/13 - 0s - loss: 0.1800 - accuracy: 0.9300 - 35ms/epoch - 3ms/step\n",
      "Epoch 55/138\n",
      "13/13 - 0s - loss: 0.1843 - accuracy: 0.9225 - 34ms/epoch - 3ms/step\n",
      "Epoch 56/138\n",
      "13/13 - 0s - loss: 0.1781 - accuracy: 0.9275 - 34ms/epoch - 3ms/step\n",
      "Epoch 57/138\n",
      "13/13 - 0s - loss: 0.1737 - accuracy: 0.9200 - 35ms/epoch - 3ms/step\n",
      "Epoch 58/138\n",
      "13/13 - 0s - loss: 0.1751 - accuracy: 0.9300 - 33ms/epoch - 3ms/step\n",
      "Epoch 59/138\n",
      "13/13 - 0s - loss: 0.1686 - accuracy: 0.9275 - 35ms/epoch - 3ms/step\n",
      "Epoch 60/138\n",
      "13/13 - 0s - loss: 0.2003 - accuracy: 0.9100 - 34ms/epoch - 3ms/step\n",
      "Epoch 61/138\n",
      "13/13 - 0s - loss: 0.2185 - accuracy: 0.9100 - 35ms/epoch - 3ms/step\n",
      "Epoch 62/138\n",
      "13/13 - 0s - loss: 0.2000 - accuracy: 0.9050 - 35ms/epoch - 3ms/step\n",
      "Epoch 63/138\n",
      "13/13 - 0s - loss: 0.1914 - accuracy: 0.9125 - 35ms/epoch - 3ms/step\n",
      "Epoch 64/138\n",
      "13/13 - 0s - loss: 0.2029 - accuracy: 0.8975 - 32ms/epoch - 2ms/step\n",
      "Epoch 65/138\n",
      "13/13 - 0s - loss: 0.1843 - accuracy: 0.9225 - 34ms/epoch - 3ms/step\n",
      "Epoch 66/138\n",
      "13/13 - 0s - loss: 0.1593 - accuracy: 0.9350 - 34ms/epoch - 3ms/step\n",
      "Epoch 67/138\n",
      "13/13 - 0s - loss: 0.1827 - accuracy: 0.9350 - 33ms/epoch - 3ms/step\n",
      "Epoch 68/138\n",
      "13/13 - 0s - loss: 0.1819 - accuracy: 0.9200 - 34ms/epoch - 3ms/step\n",
      "Epoch 69/138\n",
      "13/13 - 0s - loss: 0.2348 - accuracy: 0.8950 - 35ms/epoch - 3ms/step\n",
      "Epoch 70/138\n",
      "13/13 - 0s - loss: 0.2302 - accuracy: 0.9075 - 34ms/epoch - 3ms/step\n",
      "Epoch 71/138\n",
      "13/13 - 0s - loss: 0.2073 - accuracy: 0.9125 - 35ms/epoch - 3ms/step\n",
      "Epoch 72/138\n",
      "13/13 - 0s - loss: 0.1896 - accuracy: 0.9100 - 32ms/epoch - 2ms/step\n",
      "Epoch 73/138\n",
      "13/13 - 0s - loss: 0.2429 - accuracy: 0.8900 - 34ms/epoch - 3ms/step\n",
      "Epoch 74/138\n",
      "13/13 - 0s - loss: 0.1956 - accuracy: 0.9125 - 33ms/epoch - 3ms/step\n",
      "Epoch 75/138\n",
      "13/13 - 0s - loss: 0.1775 - accuracy: 0.9250 - 34ms/epoch - 3ms/step\n",
      "Epoch 76/138\n",
      "13/13 - 0s - loss: 0.1943 - accuracy: 0.9275 - 33ms/epoch - 3ms/step\n",
      "Epoch 77/138\n",
      "13/13 - 0s - loss: 0.1839 - accuracy: 0.9175 - 33ms/epoch - 3ms/step\n",
      "Epoch 78/138\n",
      "13/13 - 0s - loss: 0.2032 - accuracy: 0.9250 - 32ms/epoch - 2ms/step\n",
      "Epoch 79/138\n",
      "13/13 - 0s - loss: 0.2140 - accuracy: 0.9175 - 35ms/epoch - 3ms/step\n",
      "Epoch 80/138\n",
      "13/13 - 0s - loss: 0.1841 - accuracy: 0.8975 - 33ms/epoch - 3ms/step\n",
      "Epoch 81/138\n",
      "13/13 - 0s - loss: 0.1912 - accuracy: 0.9125 - 36ms/epoch - 3ms/step\n",
      "Epoch 82/138\n",
      "13/13 - 0s - loss: 0.1945 - accuracy: 0.9100 - 38ms/epoch - 3ms/step\n",
      "Epoch 83/138\n",
      "13/13 - 0s - loss: 0.2075 - accuracy: 0.8975 - 38ms/epoch - 3ms/step\n",
      "Epoch 84/138\n",
      "13/13 - 0s - loss: 0.2005 - accuracy: 0.9200 - 48ms/epoch - 4ms/step\n",
      "Epoch 85/138\n",
      "13/13 - 0s - loss: 0.2099 - accuracy: 0.9150 - 43ms/epoch - 3ms/step\n",
      "Epoch 86/138\n",
      "13/13 - 0s - loss: 0.1831 - accuracy: 0.9350 - 40ms/epoch - 3ms/step\n",
      "Epoch 87/138\n",
      "13/13 - 0s - loss: 0.3193 - accuracy: 0.8600 - 40ms/epoch - 3ms/step\n",
      "Epoch 88/138\n",
      "13/13 - 0s - loss: 0.2287 - accuracy: 0.9125 - 41ms/epoch - 3ms/step\n",
      "Epoch 89/138\n",
      "13/13 - 0s - loss: 0.2525 - accuracy: 0.8875 - 38ms/epoch - 3ms/step\n",
      "Epoch 90/138\n",
      "13/13 - 0s - loss: 0.1883 - accuracy: 0.9100 - 36ms/epoch - 3ms/step\n",
      "Epoch 91/138\n",
      "13/13 - 0s - loss: 0.2222 - accuracy: 0.9275 - 38ms/epoch - 3ms/step\n",
      "Epoch 92/138\n",
      "13/13 - 0s - loss: 0.2546 - accuracy: 0.9075 - 38ms/epoch - 3ms/step\n",
      "Epoch 93/138\n",
      "13/13 - 0s - loss: 0.2113 - accuracy: 0.9025 - 39ms/epoch - 3ms/step\n",
      "Epoch 94/138\n",
      "13/13 - 0s - loss: 0.1929 - accuracy: 0.9250 - 43ms/epoch - 3ms/step\n",
      "Epoch 95/138\n",
      "13/13 - 0s - loss: 0.1921 - accuracy: 0.9175 - 38ms/epoch - 3ms/step\n",
      "Epoch 96/138\n",
      "13/13 - 0s - loss: 0.1807 - accuracy: 0.9175 - 39ms/epoch - 3ms/step\n",
      "Epoch 97/138\n",
      "13/13 - 0s - loss: 0.1881 - accuracy: 0.9250 - 37ms/epoch - 3ms/step\n",
      "Epoch 98/138\n",
      "13/13 - 0s - loss: 0.2386 - accuracy: 0.8950 - 33ms/epoch - 3ms/step\n",
      "Epoch 99/138\n",
      "13/13 - 0s - loss: 0.1903 - accuracy: 0.9100 - 33ms/epoch - 3ms/step\n",
      "Epoch 100/138\n",
      "13/13 - 0s - loss: 0.1965 - accuracy: 0.9250 - 35ms/epoch - 3ms/step\n",
      "Epoch 101/138\n"
     ]
    },
    {
     "name": "stdout",
     "output_type": "stream",
     "text": [
      "13/13 - 0s - loss: 0.1882 - accuracy: 0.9200 - 34ms/epoch - 3ms/step\n",
      "Epoch 102/138\n",
      "13/13 - 0s - loss: 0.2009 - accuracy: 0.9025 - 36ms/epoch - 3ms/step\n",
      "Epoch 103/138\n",
      "13/13 - 0s - loss: 0.1912 - accuracy: 0.9050 - 32ms/epoch - 2ms/step\n",
      "Epoch 104/138\n",
      "13/13 - 0s - loss: 0.1956 - accuracy: 0.9175 - 33ms/epoch - 3ms/step\n",
      "Epoch 105/138\n",
      "13/13 - 0s - loss: 0.1917 - accuracy: 0.9175 - 36ms/epoch - 3ms/step\n",
      "Epoch 106/138\n",
      "13/13 - 0s - loss: 0.1716 - accuracy: 0.9300 - 32ms/epoch - 2ms/step\n",
      "Epoch 107/138\n",
      "13/13 - 0s - loss: 0.1746 - accuracy: 0.9275 - 36ms/epoch - 3ms/step\n",
      "Epoch 108/138\n",
      "13/13 - 0s - loss: 0.1694 - accuracy: 0.9275 - 34ms/epoch - 3ms/step\n",
      "Epoch 109/138\n",
      "13/13 - 0s - loss: 0.1780 - accuracy: 0.9000 - 35ms/epoch - 3ms/step\n",
      "Epoch 110/138\n",
      "13/13 - 0s - loss: 0.1902 - accuracy: 0.9025 - 35ms/epoch - 3ms/step\n",
      "Epoch 111/138\n",
      "13/13 - 0s - loss: 0.1603 - accuracy: 0.9225 - 38ms/epoch - 3ms/step\n",
      "Epoch 112/138\n",
      "13/13 - 0s - loss: 0.1677 - accuracy: 0.9275 - 34ms/epoch - 3ms/step\n",
      "Epoch 113/138\n",
      "13/13 - 0s - loss: 0.1651 - accuracy: 0.9275 - 34ms/epoch - 3ms/step\n",
      "Epoch 114/138\n",
      "13/13 - 0s - loss: 0.1660 - accuracy: 0.9350 - 38ms/epoch - 3ms/step\n",
      "Epoch 115/138\n",
      "13/13 - 0s - loss: 0.1884 - accuracy: 0.9175 - 35ms/epoch - 3ms/step\n",
      "Epoch 116/138\n",
      "13/13 - 0s - loss: 0.2176 - accuracy: 0.8975 - 35ms/epoch - 3ms/step\n",
      "Epoch 117/138\n",
      "13/13 - 0s - loss: 0.1895 - accuracy: 0.9200 - 36ms/epoch - 3ms/step\n",
      "Epoch 118/138\n",
      "13/13 - 0s - loss: 0.1960 - accuracy: 0.8975 - 35ms/epoch - 3ms/step\n",
      "Epoch 119/138\n",
      "13/13 - 0s - loss: 0.2240 - accuracy: 0.8925 - 38ms/epoch - 3ms/step\n",
      "Epoch 120/138\n",
      "13/13 - 0s - loss: 0.1909 - accuracy: 0.9075 - 43ms/epoch - 3ms/step\n",
      "Epoch 121/138\n",
      "13/13 - 0s - loss: 0.1836 - accuracy: 0.9200 - 39ms/epoch - 3ms/step\n",
      "Epoch 122/138\n",
      "13/13 - 0s - loss: 0.1794 - accuracy: 0.9325 - 44ms/epoch - 3ms/step\n",
      "Epoch 123/138\n",
      "13/13 - 0s - loss: 0.2048 - accuracy: 0.9125 - 34ms/epoch - 3ms/step\n",
      "Epoch 124/138\n",
      "13/13 - 0s - loss: 0.1727 - accuracy: 0.9325 - 32ms/epoch - 2ms/step\n",
      "Epoch 125/138\n",
      "13/13 - 0s - loss: 0.2082 - accuracy: 0.8975 - 31ms/epoch - 2ms/step\n",
      "Epoch 126/138\n",
      "13/13 - 0s - loss: 0.1856 - accuracy: 0.9125 - 33ms/epoch - 3ms/step\n",
      "Epoch 127/138\n",
      "13/13 - 0s - loss: 0.1772 - accuracy: 0.9100 - 32ms/epoch - 2ms/step\n",
      "Epoch 128/138\n",
      "13/13 - 0s - loss: 0.1702 - accuracy: 0.9225 - 32ms/epoch - 2ms/step\n",
      "Epoch 129/138\n",
      "13/13 - 0s - loss: 0.1711 - accuracy: 0.9125 - 31ms/epoch - 2ms/step\n",
      "Epoch 130/138\n",
      "13/13 - 0s - loss: 0.1750 - accuracy: 0.9375 - 32ms/epoch - 2ms/step\n",
      "Epoch 131/138\n",
      "13/13 - 0s - loss: 0.2227 - accuracy: 0.9150 - 33ms/epoch - 3ms/step\n",
      "Epoch 132/138\n",
      "13/13 - 0s - loss: 0.1911 - accuracy: 0.9200 - 33ms/epoch - 3ms/step\n",
      "Epoch 133/138\n",
      "13/13 - 0s - loss: 0.2108 - accuracy: 0.9100 - 33ms/epoch - 3ms/step\n",
      "Epoch 134/138\n",
      "13/13 - 0s - loss: 0.1732 - accuracy: 0.9300 - 33ms/epoch - 3ms/step\n",
      "Epoch 135/138\n",
      "13/13 - 0s - loss: 0.1822 - accuracy: 0.9250 - 34ms/epoch - 3ms/step\n",
      "Epoch 136/138\n",
      "13/13 - 0s - loss: 0.1653 - accuracy: 0.9375 - 36ms/epoch - 3ms/step\n",
      "Epoch 137/138\n",
      "13/13 - 0s - loss: 0.1921 - accuracy: 0.9175 - 37ms/epoch - 3ms/step\n",
      "Epoch 138/138\n",
      "13/13 - 0s - loss: 0.1794 - accuracy: 0.9050 - 38ms/epoch - 3ms/step\n"
     ]
    },
    {
     "data": {
      "text/plain": [
       "<keras.src.callbacks.History at 0x211ffaf6050>"
      ]
     },
     "execution_count": 13,
     "metadata": {},
     "output_type": "execute_result"
    }
   ],
   "source": [
    "# Training the final i.e. third model using optimal epochs and best learning rate\n",
    "model_3 = Sequential()\n",
    "model_3.add(Dense(256, activation='tanh', input_shape=(11,)))\n",
    "model_3.add(Dropout(0.1))\n",
    "model_3.add(Dense(128, activation='tanh'))\n",
    "model_3.add(Dropout(0.1))\n",
    "model_3.add(Dense(64, activation='tanh'))\n",
    "model_3.add(Dropout(0.1))\n",
    "model_3.add(Dense(32, activation='tanh'))\n",
    "model_3.add(Dense(1, activation='sigmoid'))\n",
    "model_3.compile(loss='binary_crossentropy', optimizer=tf.keras.optimizers.Adam(learning_rate=best_lr), metrics=['accuracy'])\n",
    "model_3.fit(X_train_normalized, y_train, epochs=optimal_epochs, verbose=2)"
   ]
  },
  {
   "cell_type": "markdown",
   "id": "37abb2b4",
   "metadata": {},
   "source": [
    "<br>\n",
    "\n",
    "## 4. Model Evaluation \n",
    "Once the final model is trained, the critical task is to assess its performance on unseen data to gauge its generalization capabilities. We achieve this by evaluating the model on our test dataset, reporting the loss and accuracy as metrics of its performance."
   ]
  },
  {
   "cell_type": "code",
   "execution_count": 14,
   "id": "654ae83e",
   "metadata": {},
   "outputs": [
    {
     "name": "stdout",
     "output_type": "stream",
     "text": [
      "4/4 [==============================] - 0s 3ms/step - loss: 0.1367 - accuracy: 0.8900\n",
      "\n",
      "Test Loss: 0.1367\n",
      "Test Accuracy: 0.8900\n",
      "\n"
     ]
    }
   ],
   "source": [
    "# Evaluating the final model on the test set to assess generalization\n",
    "loss, accuracy = model_3.evaluate(X_test_normalized, y_test, verbose=1)\n",
    "print(f\"\\nTest Loss: {loss:.4f}\")\n",
    "print(f\"Test Accuracy: {accuracy:.4f}\\n\")"
   ]
  },
  {
   "cell_type": "markdown",
   "id": "3946a652",
   "metadata": {},
   "source": [
    "Upon evaluating our deep learning model on the test set, we observed a commendable performance. The model achieved a test accuracy of 89%, showcasing its capability to predict student admissions with significant accuracy. Additionally, the model returned a loss value of 0.1367. This loss value offers insight into the closeness of our model's predictions to the actual outcomes: a lower loss indicates that the predictions are more aligned with the true labels. Given this relatively low loss and the high accuracy, we can deduce that the model not only classifies with precision but also with a reasonable degree of confidence. These results underscore the effectiveness of our neural network model in the realm of predicting university admissions."
   ]
  },
  {
   "cell_type": "markdown",
   "id": "d1a2774d",
   "metadata": {},
   "source": [
    "## 5. Interpretation of Results\n",
    "After training our deep neural network and evaluating its performance on the test set, we delve into understanding the results more qualitatively. An essential tool for classification problems is the classification report, which provides metrics like precision, recall, and F1-score for each class. It gives insights into how well our model is doing for individual classes.\n",
    "\n",
    "Furthermore, we visualize the results using a confusion matrix. A confusion matrix succinctly presents the number of correct and incorrect predictions made by the model. By plotting this matrix, we can visually assess how many times the model predicted admissions correctly (True Positives) and how many times it made errors, such as False Positives and False Negatives."
   ]
  },
  {
   "cell_type": "code",
   "execution_count": 15,
   "id": "4c1eee10",
   "metadata": {},
   "outputs": [
    {
     "name": "stdout",
     "output_type": "stream",
     "text": [
      "4/4 [==============================] - 0s 2ms/step\n",
      "              precision    recall  f1-score   support\n",
      "\n",
      "           0       0.88      0.99      0.93        73\n",
      "           1       0.94      0.63      0.76        27\n",
      "\n",
      "    accuracy                           0.89       100\n",
      "   macro avg       0.91      0.81      0.84       100\n",
      "weighted avg       0.90      0.89      0.88       100\n",
      "\n"
     ]
    },
    {
     "data": {
      "image/png": "[encoded data removed]",
      "text/plain": [
       "<Figure size 800x500 with 2 Axes>"
      ]
     },
     "metadata": {},
     "output_type": "display_data"
    }
   ],
   "source": [
    "# Interpretation of results\n",
    "test_pred = np.round(model_3.predict(X_test_normalized))\n",
    "print(classification_report(y_test, test_pred))\n",
    "cm = confusion_matrix(y_test, test_pred)\n",
    "plt.figure(figsize=(8, 5))\n",
    "sns.heatmap(cm, annot=True, fmt='.0f', xticklabels=['Admitted', 'Not Admitted'], yticklabels=['Admitted', 'Not Admitted'])\n",
    "plt.ylabel('Actual')\n",
    "plt.xlabel('Predicted')\n",
    "plt.show()"
   ]
  },
  {
   "cell_type": "markdown",
   "id": "4cb0e49c",
   "metadata": {},
   "source": [
    "Upon delving deeper into the performance metrics of our model, some key insights emerge. The overall accuracy remains steady at 89%, corroborating our model's ability to discern between students who will be admitted and those who will not. For the students who were not admitted (Class 0), the model boasts a precision of 0.88, indicating that 88% of the predicted \"Not Admitted\" cases were accurate. Moreover, a remarkable recall of 0.99 reveals that the model successfully identified 99% of all the actual \"Not Admitted\" cases.\n",
    "\n",
    "On the flip side, for students who were admitted (Class 1), the precision is an impressive 0.94, suggesting that 94% of the predicted \"Admitted\" students genuinely got admitted. However, the recall dips to 0.63, meaning the model captured only 63% of the actual admitted students. While the F1-scores convey a balanced view of precision and recall, it's evident that the model's prowess lies in identifying the non-admitted students, but there is room for improvement when predicting admitted students."
   ]
  },
  {
   "cell_type": "markdown",
   "id": "ed828844",
   "metadata": {},
   "source": [
    "<br>\n",
    "\n",
    "## 6. Conclusion"
   ]
  },
  {
   "cell_type": "markdown",
   "id": "11fe9a81",
   "metadata": {},
   "source": [
    "Throughout this study, our primary goal was to harness the capabilities of deep learning to accurately predict the likelihood of student admissions into UCLA based on a range of criteria. Our journey began with the Common Sense Baseline, which assumed that the class with the highest frequency in the training data would be the prediction for all samples. This simple method achieved an accuracy of 71.25%, serving as our foundational benchmark.\n",
    "\n",
    "However, with the aim of surpassing this baseline, we dived into the complex world of neural networks. By experimenting with various architectures, hyperparameters, and training techniques, we found that our model achieved optimal performance at 138 epochs with a learning rate of 0.01. The resulting deep learning model outperformed the baseline with a commendable test accuracy of 89.00%. The precision, recall, and f1-scores further validated the robustness of our model. Especially notable is the model's precision of 94% in predicting students with a high chance of admission, though its recall for this category indicates there's room for improvement in capturing all potential admits.\n",
    "\n",
    "In comparison to the baseline accuracy, our model demonstrated a significant improvement of nearly 18 percentage points. This underscores the power and adaptability of deep neural networks in tackling such classification tasks, even when compared to simplistic approaches.\n",
    "\n",
    "In summary, while the common sense baseline provided a rudimentary gauge of student admissions, our deep learning model offered a more nuanced, accurate, and insightful prediction. This not only showcases the prowess of modern machine learning techniques but also paves the way for their application in other similar educational datasets, where institutions aim to make data-driven decisions regarding their potential students."
   ]
  },
  {
   "cell_type": "code",
   "execution_count": null,
   "id": "36477292",
   "metadata": {},
   "outputs": [],
   "source": []
  }
 ],
 "metadata": {
  "kernelspec": {
   "display_name": "Python 3 (ipykernel)",
   "language": "python",
   "name": "python3"
  },
  "language_info": {
   "codemirror_mode": {
    "name": "ipython",
    "version": 3
   },
   "file_extension": ".py",
   "mimetype": "text/x-python",
   "name": "python",
   "nbconvert_exporter": "python",
   "pygments_lexer": "ipython3",
   "version": "3.10.9"
  }
 },
 "nbformat": 4,
 "nbformat_minor": 5
}
